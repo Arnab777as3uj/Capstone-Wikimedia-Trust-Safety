{
 "cells": [
  {
   "cell_type": "markdown",
   "metadata": {},
   "source": [
    "# Downloading the pages meta history "
   ]
  },
  {
   "cell_type": "code",
   "execution_count": 1,
   "metadata": {},
   "outputs": [
    {
     "name": "stderr",
     "output_type": "stream",
     "text": [
      "Using TensorFlow backend.\n"
     ]
    }
   ],
   "source": [
    "import requests\n",
    "from bs4 import BeautifulSoup\n",
    "import os\n",
    "import sys\n",
    "import keras"
   ]
  },
  {
   "cell_type": "code",
   "execution_count": 2,
   "metadata": {},
   "outputs": [
    {
     "data": {
      "text/plain": [
       "['../',\n",
       " '20180920/',\n",
       " '20181001/',\n",
       " '20181020/',\n",
       " '20181101/',\n",
       " '20181120/',\n",
       " '20181201/',\n",
       " '20181220/',\n",
       " 'latest/']"
      ]
     },
     "execution_count": 2,
     "metadata": {},
     "output_type": "execute_result"
    }
   ],
   "source": [
    "base_url = 'https://dumps.wikimedia.org/enwiki/'\n",
    "index = requests.get(base_url).text\n",
    "soup_index = BeautifulSoup(index, 'html.parser')\n",
    "\n",
    "# Find the links that are dates of dumps\n",
    "dumps = [a['href'] for a in soup_index.find_all('a') if \n",
    "         a.has_attr('href')]\n",
    "dumps"
   ]
  },
  {
   "cell_type": "code",
   "execution_count": 3,
   "metadata": {},
   "outputs": [
    {
     "name": "stdout",
     "output_type": "stream",
     "text": [
      "[('enwiki-20181001-pages-meta-history15.xml-p7744803p7838433.bz2', ['2.0', 'GB']), ('enwiki-20181001-pages-meta-history15.xml-p7838434p7933819.bz2', ['1.2', 'GB']), ('enwiki-20181001-pages-meta-history15.xml-p7933820p8024323.bz2', ['1.4', 'GB']), ('enwiki-20181001-pages-meta-history15.xml-p8024324p8123474.bz2', ['1.0', 'GB']), ('enwiki-20181001-pages-meta-history15.xml-p8123475p8220780.bz2', ['1.0', 'GB']), ('enwiki-20181001-pages-meta-history15.xml-p8220781p8316192.bz2', ['1.3', 'GB']), ('enwiki-20181001-pages-meta-history15.xml-p8316193p8421177.bz2', ['1.1', 'GB']), ('enwiki-20181001-pages-meta-history15.xml-p8421178p8522108.bz2', ['1.7', 'GB']), ('enwiki-20181001-pages-meta-history15.xml-p8522109p8614763.bz2', ['1.1', 'GB']), ('enwiki-20181001-pages-meta-history15.xml-p8614764p8704259.bz2', ['1.4', 'GB']), ('enwiki-20181001-pages-meta-history15.xml-p8704260p8798631.bz2', ['1.7', 'GB']), ('enwiki-20181001-pages-meta-history15.xml-p8798632p8889714.bz2', ['1.3', 'GB']), ('enwiki-20181001-pages-meta-history15.xml-p8889715p8979509.bz2', ['898.7', 'MB']), ('enwiki-20181001-pages-meta-history15.xml-p8979510p9063738.bz2', ['848.7', 'MB']), ('enwiki-20181001-pages-meta-history15.xml-p9063739p9174293.bz2', ['1.4', 'GB']), ('enwiki-20181001-pages-meta-history15.xml-p9174294p9281211.bz2', ['1.2', 'GB']), ('enwiki-20181001-pages-meta-history15.xml-p9281212p9394426.bz2', ['1.2', 'GB']), ('enwiki-20181001-pages-meta-history15.xml-p9394427p9502123.bz2', ['2.0', 'GB']), ('enwiki-20181001-pages-meta-history15.xml-p9502124p9518048.bz2', ['151.2', 'MB'])]\n"
     ]
    },
    {
     "data": {
      "text/plain": [
       "['enwiki-20181001-pages-meta-history15.xml-p7933820p8024323.bz2',\n",
       " 'enwiki-20181001-pages-meta-history15.xml-p8024324p8123474.bz2',\n",
       " 'enwiki-20181001-pages-meta-history15.xml-p8123475p8220780.bz2',\n",
       " 'enwiki-20181001-pages-meta-history15.xml-p8220781p8316192.bz2',\n",
       " 'enwiki-20181001-pages-meta-history15.xml-p8316193p8421177.bz2',\n",
       " 'enwiki-20181001-pages-meta-history15.xml-p8421178p8522108.bz2',\n",
       " 'enwiki-20181001-pages-meta-history15.xml-p8522109p8614763.bz2',\n",
       " 'enwiki-20181001-pages-meta-history15.xml-p8614764p8704259.bz2']"
      ]
     },
     "execution_count": 3,
     "metadata": {},
     "output_type": "execute_result"
    }
   ],
   "source": [
    "dump_url = base_url + '20181001/'\n",
    "\n",
    "# Retrieve the html\n",
    "dump_html = requests.get(dump_url).text\n",
    "\n",
    "# Convert to a soup\n",
    "soup_dump = BeautifulSoup(dump_html, 'html.parser')\n",
    "\n",
    "files = []\n",
    "\n",
    "# Search through all files and store the relevant ones\n",
    "for file in soup_dump.find_all('li', {'class': 'file'}):\n",
    "    text = file.text\n",
    "    if ('pages-meta-history15.' in text)  and '.bz2' in text:\n",
    "        files.append((text.split()[0], text.split()[1:]))\n",
    "print(files)\n",
    "\n",
    "# Specify files to be downloaded\n",
    "file_download = [file[0] for file in files][2:10]\n",
    "file_download"
   ]
  },
  {
   "cell_type": "code",
   "execution_count": 4,
   "metadata": {},
   "outputs": [
    {
     "name": "stdout",
     "output_type": "stream",
     "text": [
      "/home/ec2-user/SageMaker/s3fs-fuse/bucket/wiki_trust/enwiki-20181001-pages-meta-history15.xml-p7933820p8024323.bz2\n",
      "https://dumps.wikimedia.org/enwiki/20181001/enwiki-20181001-pages-meta-history15.xml-p7933820p8024323.bz2\n",
      "Downloading data from https://dumps.wikimedia.org/enwiki/20181001/enwiki-20181001-pages-meta-history15.xml-p7933820p8024323.bz2\n",
      "1533509632/1533509622 [==============================] - 737s 0us/step\n",
      "/home/ec2-user/SageMaker/s3fs-fuse/bucket/wiki_trust/enwiki-20181001-pages-meta-history15.xml-p8024324p8123474.bz2\n",
      "https://dumps.wikimedia.org/enwiki/20181001/enwiki-20181001-pages-meta-history15.xml-p8024324p8123474.bz2\n",
      "Downloading data from https://dumps.wikimedia.org/enwiki/20181001/enwiki-20181001-pages-meta-history15.xml-p8024324p8123474.bz2\n",
      "1088454656/1088449820 [==============================] - 530s 0us/step\n",
      "/home/ec2-user/SageMaker/s3fs-fuse/bucket/wiki_trust/enwiki-20181001-pages-meta-history15.xml-p8123475p8220780.bz2\n",
      "https://dumps.wikimedia.org/enwiki/20181001/enwiki-20181001-pages-meta-history15.xml-p8123475p8220780.bz2\n",
      "Downloading data from https://dumps.wikimedia.org/enwiki/20181001/enwiki-20181001-pages-meta-history15.xml-p8123475p8220780.bz2\n",
      "1127096320/1127095508 [==============================] - 546s 0us/step\n",
      "/home/ec2-user/SageMaker/s3fs-fuse/bucket/wiki_trust/enwiki-20181001-pages-meta-history15.xml-p8220781p8316192.bz2\n",
      "https://dumps.wikimedia.org/enwiki/20181001/enwiki-20181001-pages-meta-history15.xml-p8220781p8316192.bz2\n",
      "Downloading data from https://dumps.wikimedia.org/enwiki/20181001/enwiki-20181001-pages-meta-history15.xml-p8220781p8316192.bz2\n",
      "1447165952/1447162087 [==============================] - 701s 0us/step\n",
      "/home/ec2-user/SageMaker/s3fs-fuse/bucket/wiki_trust/enwiki-20181001-pages-meta-history15.xml-p8316193p8421177.bz2\n",
      "https://dumps.wikimedia.org/enwiki/20181001/enwiki-20181001-pages-meta-history15.xml-p8316193p8421177.bz2\n",
      "Downloading data from https://dumps.wikimedia.org/enwiki/20181001/enwiki-20181001-pages-meta-history15.xml-p8316193p8421177.bz2\n",
      "1142292480/1142288685 [==============================] - 561s 0us/step\n",
      "/home/ec2-user/SageMaker/s3fs-fuse/bucket/wiki_trust/enwiki-20181001-pages-meta-history15.xml-p8421178p8522108.bz2\n",
      "https://dumps.wikimedia.org/enwiki/20181001/enwiki-20181001-pages-meta-history15.xml-p8421178p8522108.bz2\n",
      "Downloading data from https://dumps.wikimedia.org/enwiki/20181001/enwiki-20181001-pages-meta-history15.xml-p8421178p8522108.bz2\n",
      "1850990592/1850988429 [==============================] - 899s 0us/step\n",
      "/home/ec2-user/SageMaker/s3fs-fuse/bucket/wiki_trust/enwiki-20181001-pages-meta-history15.xml-p8522109p8614763.bz2\n",
      "https://dumps.wikimedia.org/enwiki/20181001/enwiki-20181001-pages-meta-history15.xml-p8522109p8614763.bz2\n",
      "Downloading data from https://dumps.wikimedia.org/enwiki/20181001/enwiki-20181001-pages-meta-history15.xml-p8522109p8614763.bz2\n",
      "1184530432/1184524420 [==============================] - 583s 0us/step\n",
      "/home/ec2-user/SageMaker/s3fs-fuse/bucket/wiki_trust/enwiki-20181001-pages-meta-history15.xml-p8614764p8704259.bz2\n",
      "https://dumps.wikimedia.org/enwiki/20181001/enwiki-20181001-pages-meta-history15.xml-p8614764p8704259.bz2\n",
      "Downloading data from https://dumps.wikimedia.org/enwiki/20181001/enwiki-20181001-pages-meta-history15.xml-p8614764p8704259.bz2\n",
      "1461993472/1461990414 [==============================] - 707s 0us/step\n"
     ]
    }
   ],
   "source": [
    "from keras.utils import get_file\n",
    "\n",
    "# Specify the download location\n",
    "path = \"/home/ec2-user/SageMaker/s3fs-fuse/bucket/wiki_trust/\"\n",
    "\n",
    "data_paths = []\n",
    "file_info = []\n",
    "\n",
    "# Iterate through each file\n",
    "for file in file_download:\n",
    "    # If file doesn't exist download it \n",
    "    if not os.path.exists(path + file):\n",
    "        print(path+file)\n",
    "        dump_url_mod = dump_url+file\n",
    "        print(dump_url_mod)\n",
    "        data_paths.append(get_file(file, dump_url_mod, cache_dir = path))"
   ]
  }
 ],
 "metadata": {
  "kernelspec": {
   "display_name": "conda_python3",
   "language": "python",
   "name": "conda_python3"
  },
  "language_info": {
   "codemirror_mode": {
    "name": "ipython",
    "version": 3
   },
   "file_extension": ".py",
   "mimetype": "text/x-python",
   "name": "python",
   "nbconvert_exporter": "python",
   "pygments_lexer": "ipython3",
   "version": "3.6.5"
  }
 },
 "nbformat": 4,
 "nbformat_minor": 2
}
