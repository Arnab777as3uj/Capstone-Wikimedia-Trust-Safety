{
 "cells": [
  {
   "cell_type": "markdown",
   "metadata": {},
   "source": [
    "### Creating corpus - combine revision text data with blocks data"
   ]
  },
  {
   "cell_type": "code",
   "execution_count": 1,
   "metadata": {},
   "outputs": [],
   "source": [
    "# import necessary packages\n",
    "import os\n",
    "import pandas as pd\n",
    "import numpy as np\n",
    "import re\n",
    "\n",
    "# set options\n",
    "pd.options.display.max_colwidth = 50\n",
    "pd.set_option('display.max_colwidth', -1) \n",
    "pd.options.mode.chained_assignment = None  # default='warn'\n",
    "#2219"
   ]
  },
  {
   "cell_type": "markdown",
   "metadata": {},
   "source": [
    "#### Process Blocks data "
   ]
  },
  {
   "cell_type": "code",
   "execution_count": 2,
   "metadata": {},
   "outputs": [
    {
     "data": {
      "text/plain": [
       "(1130485, 7)"
      ]
     },
     "execution_count": 2,
     "metadata": {},
     "output_type": "execute_result"
    }
   ],
   "source": [
    "# read ipblocks\n",
    "df_ipblocks = pd.read_csv(\"/home/ec2-user/SageMaker/s3fs-fuse/bucket/wiki_trust/ipblocks_fulldump_new.csv\") \n",
    "df_ipblocks = df_ipblocks.drop(df_ipblocks.columns[0],axis=1)\n",
    "df_ipblocks.shape"
   ]
  },
  {
   "cell_type": "code",
   "execution_count": 3,
   "metadata": {},
   "outputs": [],
   "source": [
    "# convert object dtype to string ; keep in mind expiry with timestamp will be unusable\n",
    "df_ipblocks['ipb_address'] = df_ipblocks['ipb_address'].astype('str') #ipaddress -> string\n",
    "df_ipblocks['date'] = pd.to_datetime(df_ipblocks['date'], format = \"%Y%m%d\")\n",
    "\n",
    "# replace NAN with empty strings\n",
    "df_ipblocks.ipb_reason = df_ipblocks.ipb_reason.replace(np.nan,'', regex=True)"
   ]
  },
  {
   "cell_type": "markdown",
   "metadata": {},
   "source": [
    "#### Reg Ex extraction of block keywords"
   ]
  },
  {
   "cell_type": "code",
   "execution_count": 4,
   "metadata": {},
   "outputs": [],
   "source": [
    "key1 = df_ipblocks['ipb_reason'].str.extractall(r'\\[\\[WP:(.*?)\\]\\]').unstack().apply(lambda x:','.join(x.dropna()), axis=1)\n",
    "key2 = df_ipblocks['ipb_reason'].str.extractall(r'{{(.*)}}').unstack().apply(lambda x:','.join(x.dropna()), axis=1)\n",
    "\n",
    "df_ipblocks = pd.concat([df_ipblocks,key1,key2], axis=1)"
   ]
  },
  {
   "cell_type": "code",
   "execution_count": 5,
   "metadata": {},
   "outputs": [],
   "source": [
    "df_ipblocks[\"key3\"] = np.nan\n",
    "df_ipblocks[\"key3\"][df_ipblocks['ipb_reason'].str.contains(\"\\[\\[User:.*\\]\\]\",regex=True)] = \"Sock Puppetry\""
   ]
  },
  {
   "cell_type": "code",
   "execution_count": 6,
   "metadata": {},
   "outputs": [],
   "source": [
    "# to get word count list \n",
    "#blocks = df_ipblocks[df_ipblocks['ipb_reason'].notnull()]\n",
    "\n",
    "#import re\n",
    "#def pre_process(text):\n",
    "    \n",
    "    # lowercase\n",
    " #   text=text.lower()\n",
    "    # remove special characters and digits\n",
    "  #  text=re.sub(\"(\\\\d|\\\\W)+\",\" \",text)\n",
    "    \n",
    "   # return text\n",
    " \n",
    "#blocks['ipb_reason'] = blocks['ipb_reason'].apply(lambda x:pre_process(x))\n",
    "\n",
    "\n",
    "#textlist = blocks['ipb_reason']\n",
    "#wordlist = [word for line in textlist for word in line.split() if word not in stoplist]\n",
    "#from collections import Counter\n",
    "#counts = Counter(wordlist)\n",
    "#print(counts)\n",
    "\n",
    "#with open('/home/ec2-user/SageMaker/s3fs-fuse/bucket/wiki_trust/blockswordcount.csv', 'w',newline='') as csv_file:\n",
    " #   writer = csv.writer(csv_file)\n",
    "  #  for key, value in counts.items():\n",
    "   #     writer.writerow([key, value])"
   ]
  },
  {
   "cell_type": "markdown",
   "metadata": {},
   "source": [
    "#### Extract keywords from ipb_reason based on list of known words"
   ]
  },
  {
   "cell_type": "code",
   "execution_count": 7,
   "metadata": {},
   "outputs": [
    {
     "data": {
      "text/html": [
       "<div>\n",
       "<style scoped>\n",
       "    .dataframe tbody tr th:only-of-type {\n",
       "        vertical-align: middle;\n",
       "    }\n",
       "\n",
       "    .dataframe tbody tr th {\n",
       "        vertical-align: top;\n",
       "    }\n",
       "\n",
       "    .dataframe thead th {\n",
       "        text-align: right;\n",
       "    }\n",
       "</style>\n",
       "<table border=\"1\" class=\"dataframe\">\n",
       "  <thead>\n",
       "    <tr style=\"text-align: right;\">\n",
       "      <th></th>\n",
       "      <th>ipb_id</th>\n",
       "      <th>ipb_user</th>\n",
       "      <th>ipb_address</th>\n",
       "      <th>ipb_create_account</th>\n",
       "      <th>ipb_expiry</th>\n",
       "      <th>date</th>\n",
       "      <th>ipb_reason</th>\n",
       "      <th>0</th>\n",
       "      <th>1</th>\n",
       "      <th>key3</th>\n",
       "    </tr>\n",
       "  </thead>\n",
       "  <tbody>\n",
       "    <tr>\n",
       "      <th>0</th>\n",
       "      <td>1623</td>\n",
       "      <td>9418</td>\n",
       "      <td>Wanli2</td>\n",
       "      <td>1</td>\n",
       "      <td>infinity</td>\n",
       "      <td>2004-02-08</td>\n",
       "      <td>Obvious reincarnation of [[User:Wanli]], banned months ago for using Wikipedia as a personal file-storage area</td>\n",
       "      <td>NaN</td>\n",
       "      <td>NaN</td>\n",
       "      <td>Sock Puppetry</td>\n",
       "    </tr>\n",
       "    <tr>\n",
       "      <th>1</th>\n",
       "      <td>1624</td>\n",
       "      <td>17254</td>\n",
       "      <td>Xuepiao</td>\n",
       "      <td>1</td>\n",
       "      <td>infinity</td>\n",
       "      <td>2004-02-08</td>\n",
       "      <td>Reincarnation of [[User:Wanli]], banned months ago for using Wikipedia as a personal file-storage area</td>\n",
       "      <td>NaN</td>\n",
       "      <td>NaN</td>\n",
       "      <td>Sock Puppetry</td>\n",
       "    </tr>\n",
       "    <tr>\n",
       "      <th>2</th>\n",
       "      <td>1625</td>\n",
       "      <td>6959</td>\n",
       "      <td>GrandVoivodOfErdely</td>\n",
       "      <td>1</td>\n",
       "      <td>infinity</td>\n",
       "      <td>2004-02-08</td>\n",
       "      <td>Probable reincarnation of banned [[User:Wanli]], and no edits except for using Wikipedia as a personal file-storage area in any case.</td>\n",
       "      <td>NaN</td>\n",
       "      <td>NaN</td>\n",
       "      <td>Sock Puppetry</td>\n",
       "    </tr>\n",
       "    <tr>\n",
       "      <th>3</th>\n",
       "      <td>1706</td>\n",
       "      <td>3107</td>\n",
       "      <td>#1703</td>\n",
       "      <td>1</td>\n",
       "      <td>infinity</td>\n",
       "      <td>2004-02-13</td>\n",
       "      <td>testing</td>\n",
       "      <td>NaN</td>\n",
       "      <td>NaN</td>\n",
       "      <td>NaN</td>\n",
       "    </tr>\n",
       "    <tr>\n",
       "      <th>4</th>\n",
       "      <td>2616</td>\n",
       "      <td>43305</td>\n",
       "      <td>Wanli3</td>\n",
       "      <td>1</td>\n",
       "      <td>infinity</td>\n",
       "      <td>2004-03-14</td>\n",
       "      <td>Reincarnation of [[User:Wanli]], banned months ago for using Wikipedia as a personal file-storage area</td>\n",
       "      <td>NaN</td>\n",
       "      <td>NaN</td>\n",
       "      <td>Sock Puppetry</td>\n",
       "    </tr>\n",
       "  </tbody>\n",
       "</table>\n",
       "</div>"
      ],
      "text/plain": [
       "   ipb_id  ipb_user          ipb_address  ipb_create_account ipb_expiry  \\\n",
       "0  1623    9418      Wanli2               1                   infinity    \n",
       "1  1624    17254     Xuepiao              1                   infinity    \n",
       "2  1625    6959      GrandVoivodOfErdely  1                   infinity    \n",
       "3  1706    3107      #1703                1                   infinity    \n",
       "4  2616    43305     Wanli3               1                   infinity    \n",
       "\n",
       "        date  \\\n",
       "0 2004-02-08   \n",
       "1 2004-02-08   \n",
       "2 2004-02-08   \n",
       "3 2004-02-13   \n",
       "4 2004-03-14   \n",
       "\n",
       "                                                                                                                              ipb_reason  \\\n",
       "0  Obvious reincarnation of [[User:Wanli]], banned months ago for using Wikipedia as a personal file-storage area                          \n",
       "1  Reincarnation of [[User:Wanli]], banned months ago for using Wikipedia as a personal file-storage area                                  \n",
       "2  Probable reincarnation of banned [[User:Wanli]], and no edits except for using Wikipedia as a personal file-storage area in any case.   \n",
       "3  testing                                                                                                                                 \n",
       "4  Reincarnation of [[User:Wanli]], banned months ago for using Wikipedia as a personal file-storage area                                  \n",
       "\n",
       "     0    1           key3  \n",
       "0  NaN  NaN  Sock Puppetry  \n",
       "1  NaN  NaN  Sock Puppetry  \n",
       "2  NaN  NaN  Sock Puppetry  \n",
       "3  NaN  NaN  NaN            \n",
       "4  NaN  NaN  Sock Puppetry  "
      ]
     },
     "execution_count": 7,
     "metadata": {},
     "output_type": "execute_result"
    }
   ],
   "source": [
    "df_ipblocks.head()"
   ]
  },
  {
   "cell_type": "code",
   "execution_count": 8,
   "metadata": {},
   "outputs": [],
   "source": [
    "# clean df\n",
    "df_ipblocks = df_ipblocks.drop(columns = ['ipb_id','ipb_create_account','ipb_expiry'])\n",
    "df_ipblocks.columns = ['userid','username','blockdate','reason','k1','k2','k3']"
   ]
  },
  {
   "cell_type": "code",
   "execution_count": 9,
   "metadata": {},
   "outputs": [],
   "source": [
    "df_ipblocks.k1 = df_ipblocks.k1.replace(np.nan,'', regex=True)\n",
    "df_ipblocks.k2 = df_ipblocks.k2.replace(np.nan,'', regex=True)\n",
    "df_ipblocks.k3 = df_ipblocks.k3.replace(np.nan,'', regex=True)\n",
    "cols = ['k1', 'k2', 'k3']\n",
    "df_ipblocks['keyreason'] = df_ipblocks[cols].apply(lambda row: ','.join(row.values.astype(str)), axis=1)\n",
    "df_ipblocks.keyreason = df_ipblocks.keyreason.replace(',,',',', regex=True)\n",
    "df_ipblocks.keyreason = df_ipblocks.keyreason.replace(r'^,','', regex=True)\n",
    "df_ipblocks = df_ipblocks.drop(columns = ['k1','k2','k3'])"
   ]
  },
  {
   "cell_type": "code",
   "execution_count": 10,
   "metadata": {},
   "outputs": [
    {
     "data": {
      "text/html": [
       "<div>\n",
       "<style scoped>\n",
       "    .dataframe tbody tr th:only-of-type {\n",
       "        vertical-align: middle;\n",
       "    }\n",
       "\n",
       "    .dataframe tbody tr th {\n",
       "        vertical-align: top;\n",
       "    }\n",
       "\n",
       "    .dataframe thead th {\n",
       "        text-align: right;\n",
       "    }\n",
       "</style>\n",
       "<table border=\"1\" class=\"dataframe\">\n",
       "  <thead>\n",
       "    <tr style=\"text-align: right;\">\n",
       "      <th></th>\n",
       "      <th>userid</th>\n",
       "      <th>username</th>\n",
       "      <th>blockdate</th>\n",
       "      <th>reason</th>\n",
       "      <th>keyreason</th>\n",
       "    </tr>\n",
       "  </thead>\n",
       "  <tbody>\n",
       "    <tr>\n",
       "      <th>0</th>\n",
       "      <td>9418</td>\n",
       "      <td>Wanli2</td>\n",
       "      <td>2004-02-08</td>\n",
       "      <td>Obvious reincarnation of [[User:Wanli]], banned months ago for using Wikipedia as a personal file-storage area</td>\n",
       "      <td>Sock Puppetry</td>\n",
       "    </tr>\n",
       "    <tr>\n",
       "      <th>1</th>\n",
       "      <td>17254</td>\n",
       "      <td>Xuepiao</td>\n",
       "      <td>2004-02-08</td>\n",
       "      <td>Reincarnation of [[User:Wanli]], banned months ago for using Wikipedia as a personal file-storage area</td>\n",
       "      <td>Sock Puppetry</td>\n",
       "    </tr>\n",
       "    <tr>\n",
       "      <th>2</th>\n",
       "      <td>6959</td>\n",
       "      <td>GrandVoivodOfErdely</td>\n",
       "      <td>2004-02-08</td>\n",
       "      <td>Probable reincarnation of banned [[User:Wanli]], and no edits except for using Wikipedia as a personal file-storage area in any case.</td>\n",
       "      <td>Sock Puppetry</td>\n",
       "    </tr>\n",
       "    <tr>\n",
       "      <th>3</th>\n",
       "      <td>3107</td>\n",
       "      <td>#1703</td>\n",
       "      <td>2004-02-13</td>\n",
       "      <td>testing</td>\n",
       "      <td></td>\n",
       "    </tr>\n",
       "    <tr>\n",
       "      <th>4</th>\n",
       "      <td>43305</td>\n",
       "      <td>Wanli3</td>\n",
       "      <td>2004-03-14</td>\n",
       "      <td>Reincarnation of [[User:Wanli]], banned months ago for using Wikipedia as a personal file-storage area</td>\n",
       "      <td>Sock Puppetry</td>\n",
       "    </tr>\n",
       "  </tbody>\n",
       "</table>\n",
       "</div>"
      ],
      "text/plain": [
       "   userid             username  blockdate  \\\n",
       "0  9418    Wanli2              2004-02-08   \n",
       "1  17254   Xuepiao             2004-02-08   \n",
       "2  6959    GrandVoivodOfErdely 2004-02-08   \n",
       "3  3107    #1703               2004-02-13   \n",
       "4  43305   Wanli3              2004-03-14   \n",
       "\n",
       "                                                                                                                                  reason  \\\n",
       "0  Obvious reincarnation of [[User:Wanli]], banned months ago for using Wikipedia as a personal file-storage area                          \n",
       "1  Reincarnation of [[User:Wanli]], banned months ago for using Wikipedia as a personal file-storage area                                  \n",
       "2  Probable reincarnation of banned [[User:Wanli]], and no edits except for using Wikipedia as a personal file-storage area in any case.   \n",
       "3  testing                                                                                                                                 \n",
       "4  Reincarnation of [[User:Wanli]], banned months ago for using Wikipedia as a personal file-storage area                                  \n",
       "\n",
       "       keyreason  \n",
       "0  Sock Puppetry  \n",
       "1  Sock Puppetry  \n",
       "2  Sock Puppetry  \n",
       "3                 \n",
       "4  Sock Puppetry  "
      ]
     },
     "execution_count": 10,
     "metadata": {},
     "output_type": "execute_result"
    }
   ],
   "source": [
    "df_ipblocks.head()"
   ]
  },
  {
   "cell_type": "code",
   "execution_count": 11,
   "metadata": {},
   "outputs": [],
   "source": [
    "#df_ipblocks[df_ipblocks['reason'].str.contains(\"\\[\\[User:.*\\]\\]\",regex=True)]"
   ]
  },
  {
   "cell_type": "markdown",
   "metadata": {},
   "source": [
    "#### Process XML data"
   ]
  },
  {
   "cell_type": "markdown",
   "metadata": {},
   "source": [
    "Split Contributor into UserID and Username"
   ]
  },
  {
   "cell_type": "code",
   "execution_count": 12,
   "metadata": {},
   "outputs": [
    {
     "data": {
      "text/plain": [
       "(892010, 8)"
      ]
     },
     "execution_count": 12,
     "metadata": {},
     "output_type": "execute_result"
    }
   ],
   "source": [
    "df_revtxt = pd.read_csv('/home/ec2-user/SageMaker/s3fs-fuse/bucket/wiki_trust/xml_dump_processed/revision_text_data_final3.txt', sep = '\\t')\n",
    "df_revtxt.shape"
   ]
  },
  {
   "cell_type": "code",
   "execution_count": 13,
   "metadata": {},
   "outputs": [
    {
     "data": {
      "text/html": [
       "<div>\n",
       "<style scoped>\n",
       "    .dataframe tbody tr th:only-of-type {\n",
       "        vertical-align: middle;\n",
       "    }\n",
       "\n",
       "    .dataframe tbody tr th {\n",
       "        vertical-align: top;\n",
       "    }\n",
       "\n",
       "    .dataframe thead th {\n",
       "        text-align: right;\n",
       "    }\n",
       "</style>\n",
       "<table border=\"1\" class=\"dataframe\">\n",
       "  <thead>\n",
       "    <tr style=\"text-align: right;\">\n",
       "      <th></th>\n",
       "      <th>NAMESPACE</th>\n",
       "      <th>CONTRIBUTOR</th>\n",
       "      <th>TITLE</th>\n",
       "      <th>PAGE_ID</th>\n",
       "      <th>REVISION_ID</th>\n",
       "      <th>TIMESTAMP</th>\n",
       "      <th>TEXT</th>\n",
       "      <th>DIFF_TEXT</th>\n",
       "      <th>USERID</th>\n",
       "      <th>username</th>\n",
       "    </tr>\n",
       "  </thead>\n",
       "  <tbody>\n",
       "    <tr>\n",
       "      <th>0</th>\n",
       "      <td>1</td>\n",
       "      <td>Contributor(id=1662958, user_text='Kleomarlo')</td>\n",
       "      <td>Talk:Philippine habeas corpus cases</td>\n",
       "      <td>19436942</td>\n",
       "      <td>240406734</td>\n",
       "      <td>20080923101045</td>\n",
       "      <td>{{WPPhilippines|class=Start|importance=High}}</td>\n",
       "      <td>NaN</td>\n",
       "      <td>1662958</td>\n",
       "      <td>Kleomarlo</td>\n",
       "    </tr>\n",
       "    <tr>\n",
       "      <th>1</th>\n",
       "      <td>1</td>\n",
       "      <td>Contributor(id=1662958, user_text='Kleomarlo')</td>\n",
       "      <td>Talk:Philippine Heart Center</td>\n",
       "      <td>19436944</td>\n",
       "      <td>240406770</td>\n",
       "      <td>20080923101100</td>\n",
       "      <td>{{WPPhilippines|class=Stub|importance=Mid}}</td>\n",
       "      <td>NaN</td>\n",
       "      <td>1662958</td>\n",
       "      <td>Kleomarlo</td>\n",
       "    </tr>\n",
       "    <tr>\n",
       "      <th>2</th>\n",
       "      <td>1</td>\n",
       "      <td>Contributor(id=9699525, user_text='Hariboneagle927')</td>\n",
       "      <td>Talk:Philippine Heart Center</td>\n",
       "      <td>19436944</td>\n",
       "      <td>577410606</td>\n",
       "      <td>20131016103933</td>\n",
       "      <td>{{WikiProject Hospitals |class =stub |importance = |attention = |needs-infobox =yes |needs-photo =  |needs-coord =yes }}\\n{{WPPhilippines|class=Stub|importance=Mid}}</td>\n",
       "      <td>+ {{WikiProject Hospitals |class =stub |importance = |attention = |needs-infobox =yes |needs-photo =  |needs-coord =yes }}</td>\n",
       "      <td>9699525</td>\n",
       "      <td>Hariboneagle927</td>\n",
       "    </tr>\n",
       "    <tr>\n",
       "      <th>3</th>\n",
       "      <td>1</td>\n",
       "      <td>Contributor(id=1662958, user_text='Kleomarlo')</td>\n",
       "      <td>Talk:Philippine hawk-cuckoo</td>\n",
       "      <td>19436945</td>\n",
       "      <td>240406781</td>\n",
       "      <td>20080923101105</td>\n",
       "      <td>{{WPPhilippines|class=Stub|importance=Mid}}</td>\n",
       "      <td>NaN</td>\n",
       "      <td>1662958</td>\n",
       "      <td>Kleomarlo</td>\n",
       "    </tr>\n",
       "    <tr>\n",
       "      <th>4</th>\n",
       "      <td>1</td>\n",
       "      <td>Contributor(id=5798, user_text='Shyamal')</td>\n",
       "      <td>Talk:Philippine hawk-cuckoo</td>\n",
       "      <td>19436945</td>\n",
       "      <td>407446390</td>\n",
       "      <td>20110112091919</td>\n",
       "      <td>{{WPPhilippines|class=Stub|importance=Mid}}</td>\n",
       "      <td>NaN</td>\n",
       "      <td>5798</td>\n",
       "      <td>Shyamal</td>\n",
       "    </tr>\n",
       "  </tbody>\n",
       "</table>\n",
       "</div>"
      ],
      "text/plain": [
       "   NAMESPACE                                           CONTRIBUTOR  \\\n",
       "0  1          Contributor(id=1662958, user_text='Kleomarlo')         \n",
       "1  1          Contributor(id=1662958, user_text='Kleomarlo')         \n",
       "2  1          Contributor(id=9699525, user_text='Hariboneagle927')   \n",
       "3  1          Contributor(id=1662958, user_text='Kleomarlo')         \n",
       "4  1          Contributor(id=5798, user_text='Shyamal')              \n",
       "\n",
       "                                 TITLE   PAGE_ID  REVISION_ID       TIMESTAMP  \\\n",
       "0  Talk:Philippine habeas corpus cases  19436942  240406734    20080923101045   \n",
       "1  Talk:Philippine Heart Center         19436944  240406770    20080923101100   \n",
       "2  Talk:Philippine Heart Center         19436944  577410606    20131016103933   \n",
       "3  Talk:Philippine hawk-cuckoo          19436945  240406781    20080923101105   \n",
       "4  Talk:Philippine hawk-cuckoo          19436945  407446390    20110112091919   \n",
       "\n",
       "                                                                                                                                                                    TEXT  \\\n",
       "0  {{WPPhilippines|class=Start|importance=High}}                                                                                                                           \n",
       "1  {{WPPhilippines|class=Stub|importance=Mid}}                                                                                                                             \n",
       "2  {{WikiProject Hospitals |class =stub |importance = |attention = |needs-infobox =yes |needs-photo =  |needs-coord =yes }}\\n{{WPPhilippines|class=Stub|importance=Mid}}   \n",
       "3  {{WPPhilippines|class=Stub|importance=Mid}}                                                                                                                             \n",
       "4  {{WPPhilippines|class=Stub|importance=Mid}}                                                                                                                             \n",
       "\n",
       "                                                                                                                    DIFF_TEXT  \\\n",
       "0  NaN                                                                                                                          \n",
       "1  NaN                                                                                                                          \n",
       "2  + {{WikiProject Hospitals |class =stub |importance = |attention = |needs-infobox =yes |needs-photo =  |needs-coord =yes }}   \n",
       "3  NaN                                                                                                                          \n",
       "4  NaN                                                                                                                          \n",
       "\n",
       "    USERID         username  \n",
       "0  1662958  Kleomarlo        \n",
       "1  1662958  Kleomarlo        \n",
       "2  9699525  Hariboneagle927  \n",
       "3  1662958  Kleomarlo        \n",
       "4  5798     Shyamal          "
      ]
     },
     "execution_count": 13,
     "metadata": {},
     "output_type": "execute_result"
    }
   ],
   "source": [
    "#df_revtxt.head(20)\n",
    "#df_revtxt.NAMESPACE.value_counts()\n",
    "\n",
    "# split CONTRIBUTOR into userid and username  \n",
    "namesplit              = df_revtxt[\"CONTRIBUTOR\"].str.split(\",\", n = 1, expand = True) \n",
    "df_revtxt[\"USERID\"]    = namesplit[0] \n",
    "df_revtxt[\"username\"]  = namesplit[1] \n",
    "\n",
    "# refine columns\n",
    "df_revtxt[\"USERID\"]    = df_revtxt[\"USERID\"].str.replace(\"Contributor\\(id=\",'')\n",
    "df_revtxt[\"USERID\"]    = df_revtxt[\"USERID\"].str.strip()\n",
    "\n",
    "df_revtxt[\"username\"]  = df_revtxt[\"username\"].str.replace(\"user_text='\",'')\n",
    "df_revtxt[\"username\"]  = df_revtxt[\"username\"].str[:-2]\n",
    "df_revtxt[\"username\"]  = df_revtxt[\"username\"].str.strip()\n",
    "\n",
    "df_revtxt.head()"
   ]
  },
  {
   "cell_type": "code",
   "execution_count": 14,
   "metadata": {},
   "outputs": [],
   "source": [
    "df_data = pd.merge(df_revtxt, df_ipblocks, on=['username'], how='inner')"
   ]
  },
  {
   "cell_type": "code",
   "execution_count": 15,
   "metadata": {},
   "outputs": [
    {
     "data": {
      "text/plain": [
       "(53627, 14)"
      ]
     },
     "execution_count": 15,
     "metadata": {},
     "output_type": "execute_result"
    }
   ],
   "source": [
    "df_data.shape"
   ]
  },
  {
   "cell_type": "code",
   "execution_count": 17,
   "metadata": {},
   "outputs": [],
   "source": [
    "df_data['TIMESTAMP'] = df_data['TIMESTAMP'].astype('str') #timestamp -> string\n",
    "df_data['TIMESTAMP'] = df_data['TIMESTAMP'].str[0:8]\n",
    "df_data['TIMESTAMP'] = pd.to_datetime(df_data['TIMESTAMP'], format = \"%Y%m%d\")"
   ]
  },
  {
   "cell_type": "code",
   "execution_count": 18,
   "metadata": {},
   "outputs": [],
   "source": [
    "df_data = df_data.drop(columns = ['CONTRIBUTOR','PAGE_ID','REVISION_ID','TEXT','userid'])\n",
    "# check if userid doesnt match"
   ]
  },
  {
   "cell_type": "code",
   "execution_count": 19,
   "metadata": {},
   "outputs": [
    {
     "data": {
      "text/html": [
       "<div>\n",
       "<style scoped>\n",
       "    .dataframe tbody tr th:only-of-type {\n",
       "        vertical-align: middle;\n",
       "    }\n",
       "\n",
       "    .dataframe tbody tr th {\n",
       "        vertical-align: top;\n",
       "    }\n",
       "\n",
       "    .dataframe thead th {\n",
       "        text-align: right;\n",
       "    }\n",
       "</style>\n",
       "<table border=\"1\" class=\"dataframe\">\n",
       "  <thead>\n",
       "    <tr style=\"text-align: right;\">\n",
       "      <th></th>\n",
       "      <th>NAMESPACE</th>\n",
       "      <th>TITLE</th>\n",
       "      <th>TIMESTAMP</th>\n",
       "      <th>DIFF_TEXT</th>\n",
       "      <th>USERID</th>\n",
       "      <th>username</th>\n",
       "      <th>blockdate</th>\n",
       "      <th>reason</th>\n",
       "      <th>keyreason</th>\n",
       "    </tr>\n",
       "  </thead>\n",
       "  <tbody>\n",
       "    <tr>\n",
       "      <th>0</th>\n",
       "      <td>1</td>\n",
       "      <td>Talk:Boston College School of Theology and Ministry</td>\n",
       "      <td>2012-02-01</td>\n",
       "      <td>+ {{WikiProject Catholicism}} + {{WikiProject Boston}} + {{WikiProject Massachusetts|class=Start|importance=|auto=inherit}} + {{WikiProject Schools|class=start|importance=low|needs-infobox=yes}}</td>\n",
       "      <td>15929118</td>\n",
       "      <td>Kumi-Taskbot</td>\n",
       "      <td>2012-04-10</td>\n",
       "      <td>Bot operator has abandoned his account and is now editing as an IP</td>\n",
       "      <td></td>\n",
       "    </tr>\n",
       "    <tr>\n",
       "      <th>1</th>\n",
       "      <td>1</td>\n",
       "      <td>Talk:Boston College School of Theology and Ministry</td>\n",
       "      <td>2012-02-02</td>\n",
       "      <td>+ {{WikiProject United States|class=Start|importance=|MA=yes|MA-importance=|auto=inherit}}</td>\n",
       "      <td>15929118</td>\n",
       "      <td>Kumi-Taskbot</td>\n",
       "      <td>2012-04-10</td>\n",
       "      <td>Bot operator has abandoned his account and is now editing as an IP</td>\n",
       "      <td></td>\n",
       "    </tr>\n",
       "    <tr>\n",
       "      <th>2</th>\n",
       "      <td>1</td>\n",
       "      <td>Talk:Boston College School of Theology and Ministry</td>\n",
       "      <td>2012-02-09</td>\n",
       "      <td>+ {{WikiProject United States|class=|importance=|Boston=yes|Boston-importance=|MA=yes|MA-importance=|auto=inherit}}</td>\n",
       "      <td>15929118</td>\n",
       "      <td>Kumi-Taskbot</td>\n",
       "      <td>2012-04-10</td>\n",
       "      <td>Bot operator has abandoned his account and is now editing as an IP</td>\n",
       "      <td></td>\n",
       "    </tr>\n",
       "    <tr>\n",
       "      <th>3</th>\n",
       "      <td>1</td>\n",
       "      <td>Talk:Bob Hite (announcer)</td>\n",
       "      <td>2011-12-26</td>\n",
       "      <td>+ {{WikiProjectBannerShell|1= + {{WikiProject United States|class=Start|importance=Low|IN=yes|IN-importance=Low||needs-infobox=yes}} + {{WikiProject Biography + }}</td>\n",
       "      <td>15929118</td>\n",
       "      <td>Kumi-Taskbot</td>\n",
       "      <td>2012-04-10</td>\n",
       "      <td>Bot operator has abandoned his account and is now editing as an IP</td>\n",
       "      <td></td>\n",
       "    </tr>\n",
       "    <tr>\n",
       "      <th>4</th>\n",
       "      <td>1</td>\n",
       "      <td>Talk:Chihuahuan Desert Research Institute</td>\n",
       "      <td>2012-02-14</td>\n",
       "      <td>+ {{WikiProject United States|class=Start|importance=Mid|TX=yes|TX-importance=Mid| }}</td>\n",
       "      <td>15929118</td>\n",
       "      <td>Kumi-Taskbot</td>\n",
       "      <td>2012-04-10</td>\n",
       "      <td>Bot operator has abandoned his account and is now editing as an IP</td>\n",
       "      <td></td>\n",
       "    </tr>\n",
       "  </tbody>\n",
       "</table>\n",
       "</div>"
      ],
      "text/plain": [
       "   NAMESPACE                                                TITLE  TIMESTAMP  \\\n",
       "0  1          Talk:Boston College School of Theology and Ministry 2012-02-01   \n",
       "1  1          Talk:Boston College School of Theology and Ministry 2012-02-02   \n",
       "2  1          Talk:Boston College School of Theology and Ministry 2012-02-09   \n",
       "3  1          Talk:Bob Hite (announcer)                           2011-12-26   \n",
       "4  1          Talk:Chihuahuan Desert Research Institute           2012-02-14   \n",
       "\n",
       "                                                                                                                                                                                            DIFF_TEXT  \\\n",
       "0  + {{WikiProject Catholicism}} + {{WikiProject Boston}} + {{WikiProject Massachusetts|class=Start|importance=|auto=inherit}} + {{WikiProject Schools|class=start|importance=low|needs-infobox=yes}}   \n",
       "1  + {{WikiProject United States|class=Start|importance=|MA=yes|MA-importance=|auto=inherit}}                                                                                                           \n",
       "2  + {{WikiProject United States|class=|importance=|Boston=yes|Boston-importance=|MA=yes|MA-importance=|auto=inherit}}                                                                                  \n",
       "3  + {{WikiProjectBannerShell|1= + {{WikiProject United States|class=Start|importance=Low|IN=yes|IN-importance=Low||needs-infobox=yes}} + {{WikiProject Biography + }}                                  \n",
       "4  + {{WikiProject United States|class=Start|importance=Mid|TX=yes|TX-importance=Mid| }}                                                                                                                \n",
       "\n",
       "     USERID      username  blockdate  \\\n",
       "0  15929118  Kumi-Taskbot 2012-04-10   \n",
       "1  15929118  Kumi-Taskbot 2012-04-10   \n",
       "2  15929118  Kumi-Taskbot 2012-04-10   \n",
       "3  15929118  Kumi-Taskbot 2012-04-10   \n",
       "4  15929118  Kumi-Taskbot 2012-04-10   \n",
       "\n",
       "                                                               reason  \\\n",
       "0  Bot operator has abandoned his account and is now editing as an IP   \n",
       "1  Bot operator has abandoned his account and is now editing as an IP   \n",
       "2  Bot operator has abandoned his account and is now editing as an IP   \n",
       "3  Bot operator has abandoned his account and is now editing as an IP   \n",
       "4  Bot operator has abandoned his account and is now editing as an IP   \n",
       "\n",
       "  keyreason  \n",
       "0            \n",
       "1            \n",
       "2            \n",
       "3            \n",
       "4            "
      ]
     },
     "execution_count": 19,
     "metadata": {},
     "output_type": "execute_result"
    }
   ],
   "source": [
    "df_data.head()"
   ]
  },
  {
   "cell_type": "code",
   "execution_count": 20,
   "metadata": {},
   "outputs": [],
   "source": [
    "df_data = df_data.rename(columns={'NAMESPACE':'namespace','TIMESTAMP':'revision_date','DIFF_TEXT':'text','USERID': 'userid','TITLE':'title'})"
   ]
  },
  {
   "cell_type": "code",
   "execution_count": 21,
   "metadata": {},
   "outputs": [
    {
     "data": {
      "text/html": [
       "<div>\n",
       "<style scoped>\n",
       "    .dataframe tbody tr th:only-of-type {\n",
       "        vertical-align: middle;\n",
       "    }\n",
       "\n",
       "    .dataframe tbody tr th {\n",
       "        vertical-align: top;\n",
       "    }\n",
       "\n",
       "    .dataframe thead th {\n",
       "        text-align: right;\n",
       "    }\n",
       "</style>\n",
       "<table border=\"1\" class=\"dataframe\">\n",
       "  <thead>\n",
       "    <tr style=\"text-align: right;\">\n",
       "      <th></th>\n",
       "      <th>userid</th>\n",
       "      <th>username</th>\n",
       "      <th>revision_date</th>\n",
       "      <th>namespace</th>\n",
       "      <th>title</th>\n",
       "      <th>text</th>\n",
       "      <th>blockdate</th>\n",
       "      <th>keyreason</th>\n",
       "      <th>reason</th>\n",
       "    </tr>\n",
       "  </thead>\n",
       "  <tbody>\n",
       "    <tr>\n",
       "      <th>0</th>\n",
       "      <td>15929118</td>\n",
       "      <td>Kumi-Taskbot</td>\n",
       "      <td>2012-02-01</td>\n",
       "      <td>1</td>\n",
       "      <td>Talk:Boston College School of Theology and Ministry</td>\n",
       "      <td>+ {{WikiProject Catholicism}} + {{WikiProject Boston}} + {{WikiProject Massachusetts|class=Start|importance=|auto=inherit}} + {{WikiProject Schools|class=start|importance=low|needs-infobox=yes}}</td>\n",
       "      <td>2012-04-10</td>\n",
       "      <td></td>\n",
       "      <td>Bot operator has abandoned his account and is now editing as an IP</td>\n",
       "    </tr>\n",
       "    <tr>\n",
       "      <th>1</th>\n",
       "      <td>15929118</td>\n",
       "      <td>Kumi-Taskbot</td>\n",
       "      <td>2012-02-02</td>\n",
       "      <td>1</td>\n",
       "      <td>Talk:Boston College School of Theology and Ministry</td>\n",
       "      <td>+ {{WikiProject United States|class=Start|importance=|MA=yes|MA-importance=|auto=inherit}}</td>\n",
       "      <td>2012-04-10</td>\n",
       "      <td></td>\n",
       "      <td>Bot operator has abandoned his account and is now editing as an IP</td>\n",
       "    </tr>\n",
       "    <tr>\n",
       "      <th>2</th>\n",
       "      <td>15929118</td>\n",
       "      <td>Kumi-Taskbot</td>\n",
       "      <td>2012-02-09</td>\n",
       "      <td>1</td>\n",
       "      <td>Talk:Boston College School of Theology and Ministry</td>\n",
       "      <td>+ {{WikiProject United States|class=|importance=|Boston=yes|Boston-importance=|MA=yes|MA-importance=|auto=inherit}}</td>\n",
       "      <td>2012-04-10</td>\n",
       "      <td></td>\n",
       "      <td>Bot operator has abandoned his account and is now editing as an IP</td>\n",
       "    </tr>\n",
       "    <tr>\n",
       "      <th>3</th>\n",
       "      <td>15929118</td>\n",
       "      <td>Kumi-Taskbot</td>\n",
       "      <td>2011-12-26</td>\n",
       "      <td>1</td>\n",
       "      <td>Talk:Bob Hite (announcer)</td>\n",
       "      <td>+ {{WikiProjectBannerShell|1= + {{WikiProject United States|class=Start|importance=Low|IN=yes|IN-importance=Low||needs-infobox=yes}} + {{WikiProject Biography + }}</td>\n",
       "      <td>2012-04-10</td>\n",
       "      <td></td>\n",
       "      <td>Bot operator has abandoned his account and is now editing as an IP</td>\n",
       "    </tr>\n",
       "    <tr>\n",
       "      <th>4</th>\n",
       "      <td>15929118</td>\n",
       "      <td>Kumi-Taskbot</td>\n",
       "      <td>2012-02-14</td>\n",
       "      <td>1</td>\n",
       "      <td>Talk:Chihuahuan Desert Research Institute</td>\n",
       "      <td>+ {{WikiProject United States|class=Start|importance=Mid|TX=yes|TX-importance=Mid| }}</td>\n",
       "      <td>2012-04-10</td>\n",
       "      <td></td>\n",
       "      <td>Bot operator has abandoned his account and is now editing as an IP</td>\n",
       "    </tr>\n",
       "  </tbody>\n",
       "</table>\n",
       "</div>"
      ],
      "text/plain": [
       "     userid      username revision_date  namespace  \\\n",
       "0  15929118  Kumi-Taskbot 2012-02-01     1           \n",
       "1  15929118  Kumi-Taskbot 2012-02-02     1           \n",
       "2  15929118  Kumi-Taskbot 2012-02-09     1           \n",
       "3  15929118  Kumi-Taskbot 2011-12-26     1           \n",
       "4  15929118  Kumi-Taskbot 2012-02-14     1           \n",
       "\n",
       "                                                 title  \\\n",
       "0  Talk:Boston College School of Theology and Ministry   \n",
       "1  Talk:Boston College School of Theology and Ministry   \n",
       "2  Talk:Boston College School of Theology and Ministry   \n",
       "3  Talk:Bob Hite (announcer)                             \n",
       "4  Talk:Chihuahuan Desert Research Institute             \n",
       "\n",
       "                                                                                                                                                                                                 text  \\\n",
       "0  + {{WikiProject Catholicism}} + {{WikiProject Boston}} + {{WikiProject Massachusetts|class=Start|importance=|auto=inherit}} + {{WikiProject Schools|class=start|importance=low|needs-infobox=yes}}   \n",
       "1  + {{WikiProject United States|class=Start|importance=|MA=yes|MA-importance=|auto=inherit}}                                                                                                           \n",
       "2  + {{WikiProject United States|class=|importance=|Boston=yes|Boston-importance=|MA=yes|MA-importance=|auto=inherit}}                                                                                  \n",
       "3  + {{WikiProjectBannerShell|1= + {{WikiProject United States|class=Start|importance=Low|IN=yes|IN-importance=Low||needs-infobox=yes}} + {{WikiProject Biography + }}                                  \n",
       "4  + {{WikiProject United States|class=Start|importance=Mid|TX=yes|TX-importance=Mid| }}                                                                                                                \n",
       "\n",
       "   blockdate keyreason  \\\n",
       "0 2012-04-10             \n",
       "1 2012-04-10             \n",
       "2 2012-04-10             \n",
       "3 2012-04-10             \n",
       "4 2012-04-10             \n",
       "\n",
       "                                                               reason  \n",
       "0  Bot operator has abandoned his account and is now editing as an IP  \n",
       "1  Bot operator has abandoned his account and is now editing as an IP  \n",
       "2  Bot operator has abandoned his account and is now editing as an IP  \n",
       "3  Bot operator has abandoned his account and is now editing as an IP  \n",
       "4  Bot operator has abandoned his account and is now editing as an IP  "
      ]
     },
     "execution_count": 21,
     "metadata": {},
     "output_type": "execute_result"
    }
   ],
   "source": [
    "df_data = df_data[['userid','username','revision_date','namespace','title','text','blockdate','keyreason','reason']]\n",
    "df_data.head()"
   ]
  },
  {
   "cell_type": "code",
   "execution_count": 22,
   "metadata": {},
   "outputs": [],
   "source": [
    "# dump final dataframe to csv\n",
    "header = ['userid','username','revision_date','namespace','title','text','blockdate','keyreason','reason']\n",
    "df_data.to_csv('/home/ec2-user/SageMaker/s3fs-fuse/bucket/wiki_trust/xml_dump_processed/blockcorpus3.txt', sep = '\\t',encoding='utf-8',header = True,index=False)"
   ]
  },
  {
   "cell_type": "markdown",
   "metadata": {},
   "source": [
    "#### Combine files into 1 block corpus"
   ]
  },
  {
   "cell_type": "code",
   "execution_count": 24,
   "metadata": {},
   "outputs": [
    {
     "name": "stdout",
     "output_type": "stream",
     "text": [
      "blockcorpus1.txt\n",
      "blockcorpus2.txt\n",
      "blockcorpus3.txt\n"
     ]
    }
   ],
   "source": [
    "file_list = [x for x in os.listdir(\"/home/ec2-user/SageMaker/s3fs-fuse/bucket/wiki_trust/xml_dump_processed/\") if x.startswith(\"blockcorpus\")]\n",
    "\n",
    "df_list = []\n",
    "for file in file_list:\n",
    "    print(file)\n",
    "    df_list.append(pd.read_csv('/home/ec2-user/SageMaker/s3fs-fuse/bucket/wiki_trust/xml_dump_processed/' + file, sep = '\\t'))\n",
    "\n",
    "big_df = pd.concat(df_list)\n",
    "\n",
    "# save file as .csv \n",
    "header = ['userid','username','revision_date','namespace','title','text','blockdate','keyreason','reason']\n",
    "big_df.to_csv('/home/ec2-user/SageMaker/s3fs-fuse/bucket/wiki_trust/xml_dump_processed/blockcorpus.txt', sep = '\\t',encoding='utf-8',header = True,index=False)"
   ]
  },
  {
   "cell_type": "markdown",
   "metadata": {},
   "source": [
    "#### Read Corpus"
   ]
  },
  {
   "cell_type": "code",
   "execution_count": 25,
   "metadata": {},
   "outputs": [
    {
     "data": {
      "text/plain": [
       "(286918, 9)"
      ]
     },
     "execution_count": 25,
     "metadata": {},
     "output_type": "execute_result"
    }
   ],
   "source": [
    "df_blockcorpus = pd.read_csv('/home/ec2-user/SageMaker/s3fs-fuse/bucket/wiki_trust/xml_dump_processed/blockcorpus.txt', sep = '\\t')\n",
    "df_blockcorpus.shape"
   ]
  },
  {
   "cell_type": "code",
   "execution_count": 26,
   "metadata": {},
   "outputs": [
    {
     "data": {
      "text/html": [
       "<div>\n",
       "<style scoped>\n",
       "    .dataframe tbody tr th:only-of-type {\n",
       "        vertical-align: middle;\n",
       "    }\n",
       "\n",
       "    .dataframe tbody tr th {\n",
       "        vertical-align: top;\n",
       "    }\n",
       "\n",
       "    .dataframe thead th {\n",
       "        text-align: right;\n",
       "    }\n",
       "</style>\n",
       "<table border=\"1\" class=\"dataframe\">\n",
       "  <thead>\n",
       "    <tr style=\"text-align: right;\">\n",
       "      <th></th>\n",
       "      <th>userid</th>\n",
       "      <th>username</th>\n",
       "      <th>revision_date</th>\n",
       "      <th>namespace</th>\n",
       "      <th>title</th>\n",
       "      <th>text</th>\n",
       "      <th>blockdate</th>\n",
       "      <th>keyreason</th>\n",
       "      <th>reason</th>\n",
       "    </tr>\n",
       "  </thead>\n",
       "  <tbody>\n",
       "    <tr>\n",
       "      <th>0</th>\n",
       "      <td>16675924</td>\n",
       "      <td>Kumioko</td>\n",
       "      <td>2012-06-05</td>\n",
       "      <td>1</td>\n",
       "      <td>Talk:Stockdale High School (Stockdale, Texas)</td>\n",
       "      <td>+ {{WikiProject United States|class=|importance=Low|TX=yes|TX-importance=Low}}</td>\n",
       "      <td>2014-06-01</td>\n",
       "      <td>NaN</td>\n",
       "      <td>User has been banned by the community - see [[User talk:KumiokoCleanStart]] for more information.&lt;!-- Soft blocking this account so it's listed and recorded as being blocked --&gt;</td>\n",
       "    </tr>\n",
       "    <tr>\n",
       "      <th>1</th>\n",
       "      <td>16675924</td>\n",
       "      <td>Kumioko</td>\n",
       "      <td>2012-06-05</td>\n",
       "      <td>1</td>\n",
       "      <td>Talk:Stonebridge, Texas</td>\n",
       "      <td>+ {{WikiProject United States|class=|importance=Low|TX=yes|TX-importance=Low}}</td>\n",
       "      <td>2014-06-01</td>\n",
       "      <td>NaN</td>\n",
       "      <td>User has been banned by the community - see [[User talk:KumiokoCleanStart]] for more information.&lt;!-- Soft blocking this account so it's listed and recorded as being blocked --&gt;</td>\n",
       "    </tr>\n",
       "    <tr>\n",
       "      <th>2</th>\n",
       "      <td>16675924</td>\n",
       "      <td>Kumioko</td>\n",
       "      <td>2012-06-05</td>\n",
       "      <td>1</td>\n",
       "      <td>Talk:Stratford High School (Stratford, Texas)</td>\n",
       "      <td>+ {{WikiProject United States|class=|importance=Low|TX=yes|TX-importance=Low}}</td>\n",
       "      <td>2014-06-01</td>\n",
       "      <td>NaN</td>\n",
       "      <td>User has been banned by the community - see [[User talk:KumiokoCleanStart]] for more information.&lt;!-- Soft blocking this account so it's listed and recorded as being blocked --&gt;</td>\n",
       "    </tr>\n",
       "    <tr>\n",
       "      <th>3</th>\n",
       "      <td>16675924</td>\n",
       "      <td>Kumioko</td>\n",
       "      <td>2012-06-05</td>\n",
       "      <td>1</td>\n",
       "      <td>Talk:Sulphur Springs High School</td>\n",
       "      <td>+ {{WikiProject United States|class=|importance=Low|TX=yes|TX-importance=Low}}</td>\n",
       "      <td>2014-06-01</td>\n",
       "      <td>NaN</td>\n",
       "      <td>User has been banned by the community - see [[User talk:KumiokoCleanStart]] for more information.&lt;!-- Soft blocking this account so it's listed and recorded as being blocked --&gt;</td>\n",
       "    </tr>\n",
       "    <tr>\n",
       "      <th>4</th>\n",
       "      <td>16675924</td>\n",
       "      <td>Kumioko</td>\n",
       "      <td>2012-10-12</td>\n",
       "      <td>1</td>\n",
       "      <td>Talk:Sulphur Springs High School</td>\n",
       "      <td>+ {{WikiProject United States|class=Stub|importance=Low|TX=yes|TX-importance=Low}}</td>\n",
       "      <td>2014-06-01</td>\n",
       "      <td>NaN</td>\n",
       "      <td>User has been banned by the community - see [[User talk:KumiokoCleanStart]] for more information.&lt;!-- Soft blocking this account so it's listed and recorded as being blocked --&gt;</td>\n",
       "    </tr>\n",
       "  </tbody>\n",
       "</table>\n",
       "</div>"
      ],
      "text/plain": [
       "     userid username revision_date  namespace  \\\n",
       "0  16675924  Kumioko  2012-06-05    1           \n",
       "1  16675924  Kumioko  2012-06-05    1           \n",
       "2  16675924  Kumioko  2012-06-05    1           \n",
       "3  16675924  Kumioko  2012-06-05    1           \n",
       "4  16675924  Kumioko  2012-10-12    1           \n",
       "\n",
       "                                           title  \\\n",
       "0  Talk:Stockdale High School (Stockdale, Texas)   \n",
       "1  Talk:Stonebridge, Texas                         \n",
       "2  Talk:Stratford High School (Stratford, Texas)   \n",
       "3  Talk:Sulphur Springs High School                \n",
       "4  Talk:Sulphur Springs High School                \n",
       "\n",
       "                                                                                 text  \\\n",
       "0  + {{WikiProject United States|class=|importance=Low|TX=yes|TX-importance=Low}}       \n",
       "1  + {{WikiProject United States|class=|importance=Low|TX=yes|TX-importance=Low}}       \n",
       "2  + {{WikiProject United States|class=|importance=Low|TX=yes|TX-importance=Low}}       \n",
       "3  + {{WikiProject United States|class=|importance=Low|TX=yes|TX-importance=Low}}       \n",
       "4  + {{WikiProject United States|class=Stub|importance=Low|TX=yes|TX-importance=Low}}   \n",
       "\n",
       "    blockdate keyreason  \\\n",
       "0  2014-06-01  NaN        \n",
       "1  2014-06-01  NaN        \n",
       "2  2014-06-01  NaN        \n",
       "3  2014-06-01  NaN        \n",
       "4  2014-06-01  NaN        \n",
       "\n",
       "                                                                                                                                                                              reason  \n",
       "0  User has been banned by the community - see [[User talk:KumiokoCleanStart]] for more information.<!-- Soft blocking this account so it's listed and recorded as being blocked -->  \n",
       "1  User has been banned by the community - see [[User talk:KumiokoCleanStart]] for more information.<!-- Soft blocking this account so it's listed and recorded as being blocked -->  \n",
       "2  User has been banned by the community - see [[User talk:KumiokoCleanStart]] for more information.<!-- Soft blocking this account so it's listed and recorded as being blocked -->  \n",
       "3  User has been banned by the community - see [[User talk:KumiokoCleanStart]] for more information.<!-- Soft blocking this account so it's listed and recorded as being blocked -->  \n",
       "4  User has been banned by the community - see [[User talk:KumiokoCleanStart]] for more information.<!-- Soft blocking this account so it's listed and recorded as being blocked -->  "
      ]
     },
     "execution_count": 26,
     "metadata": {},
     "output_type": "execute_result"
    }
   ],
   "source": [
    "df_blockcorpus.head()"
   ]
  },
  {
   "cell_type": "code",
   "execution_count": 27,
   "metadata": {},
   "outputs": [
    {
     "data": {
      "text/plain": [
       "1    143583\n",
       "3    143335\n",
       "Name: namespace, dtype: int64"
      ]
     },
     "execution_count": 27,
     "metadata": {},
     "output_type": "execute_result"
    }
   ],
   "source": [
    "df_blockcorpus.namespace.value_counts()"
   ]
  },
  {
   "cell_type": "code",
   "execution_count": 29,
   "metadata": {},
   "outputs": [
    {
     "data": {
      "text/plain": [
       "18330"
      ]
     },
     "execution_count": 29,
     "metadata": {},
     "output_type": "execute_result"
    }
   ],
   "source": [
    "df_blockcorpus.username.nunique()"
   ]
  },
  {
   "cell_type": "code",
   "execution_count": 32,
   "metadata": {},
   "outputs": [],
   "source": [
    "# list of blocked users\n",
    "df_name = df_blockcorpus.username.unique()\n",
    "df_name = pd.DataFrame(df_name)\n",
    "# save file as .csv \n",
    "header = ['username']\n",
    "df_name.to_csv('/home/ec2-user/SageMaker/s3fs-fuse/bucket/wiki_trust/xml_dump_processed/blockuserlist.txt', sep = '\\t',encoding='utf-8',header = True,index=False)"
   ]
  }
 ],
 "metadata": {
  "kernelspec": {
   "display_name": "conda_python3",
   "language": "python",
   "name": "conda_python3"
  },
  "language_info": {
   "codemirror_mode": {
    "name": "ipython",
    "version": 3
   },
   "file_extension": ".py",
   "mimetype": "text/x-python",
   "name": "python",
   "nbconvert_exporter": "python",
   "pygments_lexer": "ipython3",
   "version": "3.6.5"
  }
 },
 "nbformat": 4,
 "nbformat_minor": 2
}
